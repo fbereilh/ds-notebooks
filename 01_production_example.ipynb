{
 "cells": [
  {
   "cell_type": "code",
   "execution_count": 32,
   "id": "5ead20be-0133-4c7a-8cb4-691ad0ec2150",
   "metadata": {},
   "outputs": [
    {
     "name": "stdout",
     "output_type": "stream",
     "text": [
      "Transformation Pipeline and Model Successfully Loaded\n"
     ]
    }
   ],
   "source": [
    "#export\n",
    "from pycaret.regression import *\n",
    "from imports import *\n",
    "from brds import *\n",
    "from flask import Flask\n",
    "from flask import send_file, send_from_directory, safe_join, abort\n",
    "\n",
    "\n",
    "\n",
    "# load pipeline\n",
    "model = load_model('model/model_v1')\n",
    "\n",
    "app = Flask(__name__)\n",
    "\n",
    "\n",
    "@app.route('/')\n",
    "def hello():\n",
    "    return \"Hello add a file_id to the path to get preds\"\n",
    "\n",
    "\n",
    "@app.route('/<file_id>')\n",
    "def my_view_func(file_id):\n",
    "    print(\"got one request\")\n",
    "    users_raw, purchases_raw = get_data(file_id)\n",
    "    data = final_preprocess_pipeline.fit_transform((users_raw, purchases_raw))\n",
    "    #data.to_csv('data.csv')\n",
    "    predictions = predict_model(model, data=data)\n",
    "    predictions.to_csv('predictions.csv')\n",
    "    \n",
    "    try:\n",
    "        return send_file('predictions.csv',\n",
    "                     mimetype='text/csv',\n",
    "                     attachment_filename='predictions.csv',\n",
    "                     as_attachment=True)\n",
    "    except FileNotFoundError:\n",
    "        abort(404)\n",
    "# predict_model(model, data=data)\n",
    "    \n",
    "\n"
   ]
  },
  {
   "cell_type": "code",
   "execution_count": 33,
   "id": "37a5ae9d-44cd-45ab-afb7-e5348a9db60c",
   "metadata": {},
   "outputs": [
    {
     "name": "stdout",
     "output_type": "stream",
     "text": [
      "Converted 01_production_example.ipynb to production.py\n"
     ]
    }
   ],
   "source": [
    "!python ./notebook2script.py 01_production_example.ipynb"
   ]
  },
  {
   "cell_type": "code",
   "execution_count": null,
   "id": "0caf9bc6-f1cd-41df-84a9-8c88ee7c77e3",
   "metadata": {},
   "outputs": [
    {
     "name": "stdout",
     "output_type": "stream",
     "text": [
      "env: FLASK_APP=production\n",
      " * Serving Flask app 'production' (lazy loading)\n",
      " * Environment: production\n",
      "\u001b[31m   WARNING: This is a development server. Do not use it in a production deployment.\u001b[0m\n",
      "\u001b[2m   Use a production WSGI server instead.\u001b[0m\n",
      " * Debug mode: off\n",
      "Transformation Pipeline and Model Successfully Loaded\n",
      " * Running on http://127.0.0.1:5000/ (Press CTRL+C to quit)\n",
      "got one request\n",
      "Downloading...\n",
      "From: https://drive.google.com/uc?id=1TwngwmdW1qMmRvZOYrWf2bXSP40CSJC_\n",
      "To: /Users/felipe.bereilh/Documents/GitHub/ds-notebooks/data/data.zip\n",
      "100%|██████████████████████████████████████| 10.8M/10.8M [00:00<00:00, 23.5MB/s]\n",
      "Optimization terminated successfully.\n",
      "         Current function value: -0.277079\n",
      "         Iterations: 30\n",
      "         Function evaluations: 32\n",
      "         Gradient evaluations: 32\n",
      "Optimization terminated successfully.\n",
      "         Current function value: 0.008418\n",
      "         Iterations: 21\n",
      "         Function evaluations: 24\n",
      "         Gradient evaluations: 24\n",
      "127.0.0.1 - - [28/Feb/2022 01:32:43] \"GET /1TwngwmdW1qMmRvZOYrWf2bXSP40CSJC_ HTTP/1.1\" 200 -\n"
     ]
    }
   ],
   "source": [
    "%env FLASK_APP=production\n",
    "!python -m flask run"
   ]
  },
  {
   "cell_type": "markdown",
   "id": "0fd9856d-5821-4c7a-a180-da83c7786e9a",
   "metadata": {},
   "source": [
    "## Try it\n",
    "\n",
    "[http://127.0.0.1:5000/1TwngwmdW1qMmRvZOYrWf2bXSP40CSJC_](http://127.0.0.1:5000/1TwngwmdW1qMmRvZOYrWf2bXSP40CSJC_)"
   ]
  },
  {
   "cell_type": "code",
   "execution_count": null,
   "id": "81aa9d1e-ccfa-4b7d-aa66-61b7b500aa5c",
   "metadata": {},
   "outputs": [],
   "source": []
  }
 ],
 "metadata": {
  "kernelspec": {
   "display_name": "Python 3 (ipykernel)",
   "language": "python",
   "name": "python3"
  },
  "language_info": {
   "codemirror_mode": {
    "name": "ipython",
    "version": 3
   },
   "file_extension": ".py",
   "mimetype": "text/x-python",
   "name": "python",
   "nbconvert_exporter": "python",
   "pygments_lexer": "ipython3",
   "version": "3.8.12"
  }
 },
 "nbformat": 4,
 "nbformat_minor": 5
}
