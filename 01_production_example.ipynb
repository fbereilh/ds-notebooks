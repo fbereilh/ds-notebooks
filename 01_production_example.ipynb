{
 "cells": [
  {
   "cell_type": "code",
   "execution_count": 9,
   "id": "5ead20be-0133-4c7a-8cb4-691ad0ec2150",
   "metadata": {},
   "outputs": [
    {
     "name": "stdout",
     "output_type": "stream",
     "text": [
      "Transformation Pipeline and Model Successfully Loaded\n"
     ]
    }
   ],
   "source": [
    "#export\n",
    "from pycaret.classification import *\n",
    "from flask import Flask\n",
    "import dill\n",
    "from brds import *\n",
    "\n",
    "\n",
    "# load pipeline\n",
    "model = load_model('model/model_v1')\n",
    "\n",
    "\n",
    "# with open(\"model/preprocess_v1.pkl\", \"rb\") as dill_file:\n",
    "#     preprocess = dill.load(dill_file)\n",
    "\n",
    "app = Flask(__name__)\n",
    "\n",
    "@app.route('/<file_id>')\n",
    "def my_view_func(file_id):\n",
    "    print(\"got one request\")\n",
    "    get_data(file_id)\n",
    "\n",
    "\n",
    "# @app.route(\"/\")\n",
    "# def hello_world():\n",
    "#     return \"<p>Hello, World!</p>\""
   ]
  },
  {
   "cell_type": "code",
   "execution_count": 10,
   "id": "37a5ae9d-44cd-45ab-afb7-e5348a9db60c",
   "metadata": {},
   "outputs": [
    {
     "name": "stdout",
     "output_type": "stream",
     "text": [
      "Converted 01_production_example.ipynb to production.py\n"
     ]
    }
   ],
   "source": [
    "!python ./notebook2script.py 01_production_example.ipynb"
   ]
  },
  {
   "cell_type": "code",
   "execution_count": null,
   "id": "0caf9bc6-f1cd-41df-84a9-8c88ee7c77e3",
   "metadata": {},
   "outputs": [],
   "source": []
  }
 ],
 "metadata": {
  "kernelspec": {
   "display_name": "Python 3 (ipykernel)",
   "language": "python",
   "name": "python3"
  },
  "language_info": {
   "codemirror_mode": {
    "name": "ipython",
    "version": 3
   },
   "file_extension": ".py",
   "mimetype": "text/x-python",
   "name": "python",
   "nbconvert_exporter": "python",
   "pygments_lexer": "ipython3",
   "version": "3.8.12"
  }
 },
 "nbformat": 4,
 "nbformat_minor": 5
}
